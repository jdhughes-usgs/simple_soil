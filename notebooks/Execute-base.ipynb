{
 "cells": [
  {
   "cell_type": "code",
   "execution_count": null,
   "id": "456b68af-37bd-4799-9f14-2cd6285fc7cc",
   "metadata": {},
   "outputs": [],
   "source": [
    "import pathlib as pl\n",
    "import pandas as pd\n",
    "import numpy as np\n",
    "import matplotlib.pyplot as plt\n",
    "import simple_soil\n",
    "import flopy.plot.styles as styles"
   ]
  },
  {
   "cell_type": "markdown",
   "id": "be872459-5b5a-4698-bda7-27cf25621496",
   "metadata": {},
   "source": [
    "Maximum infiltration\n",
    "\n",
    "```\n",
    "(upslope_hortonian + rain + snowmelt - hru_sroffi - hru_sroffp) x (1-hru_percent_imperv)\n",
    "```"
   ]
  },
  {
   "cell_type": "markdown",
   "id": "c57d9aa1-d690-4dbe-a4d7-7e2a9cf03a9c",
   "metadata": {},
   "source": [
    "Conversion factors"
   ]
  },
  {
   "cell_type": "code",
   "execution_count": null,
   "id": "ebbdf5a8-f51e-4f55-9207-995822dac645",
   "metadata": {},
   "outputs": [],
   "source": [
    "in2m = 1.0 / (12.0 * 3.28081)\n",
    "acre2sqm = 4046.86"
   ]
  },
  {
   "cell_type": "code",
   "execution_count": null,
   "id": "dea03f8f-9ed8-46e8-aa3d-c8001687a94d",
   "metadata": {},
   "outputs": [],
   "source": [
    "hru_percent_imperv = 0.309456"
   ]
  },
  {
   "cell_type": "markdown",
   "id": "d9998f80-3ac8-4517-8cc1-91e7369b4887",
   "metadata": {},
   "source": [
    "Forcing data"
   ]
  },
  {
   "cell_type": "code",
   "execution_count": null,
   "id": "855768a4-83ab-47c0-abb2-648577cf5681",
   "metadata": {},
   "outputs": [],
   "source": [
    "data_dir = pl.Path(\"data/hru_1\")"
   ]
  },
  {
   "cell_type": "code",
   "execution_count": null,
   "id": "197f075c-9e01-45b2-84d9-c3f2930d7025",
   "metadata": {},
   "outputs": [],
   "source": [
    "tag = \" 2\""
   ]
  },
  {
   "cell_type": "code",
   "execution_count": null,
   "id": "6672647d-861c-45de-ac83-020cbd331b39",
   "metadata": {},
   "outputs": [],
   "source": [
    "# rainfall\n",
    "rain = pd.read_csv(data_dir / \"hru_rain.csv\", index_col=0)\n",
    "snow = pd.read_csv(data_dir / \"snowmelt.csv\", index_col=0)\n",
    "sroffi = pd.read_csv(data_dir / \"hru_sroffi.csv\", index_col=0)\n",
    "sroffp = pd.read_csv(data_dir / \"hru_sroffi.csv\", index_col=0)\n",
    "rain[\"ppt m/day\"] = (\n",
    "    (rain[tag] + snow[tag] - sroffi[tag] - sroffp[tag])\n",
    "    * (1.0 - hru_percent_imperv)\n",
    "    * in2m\n",
    ")\n",
    "rain = rain.drop(tag, axis=1)\n",
    "rain.columns"
   ]
  },
  {
   "cell_type": "code",
   "execution_count": null,
   "id": "e6a36b7c-e9f3-4eaa-972c-d147e5fc6f76",
   "metadata": {},
   "outputs": [],
   "source": [
    "rain.plot()"
   ]
  },
  {
   "cell_type": "markdown",
   "id": "2b629317-230a-4542-a81d-10c8905463b8",
   "metadata": {},
   "source": [
    "Soil potential evapotranspiration\n",
    "\n",
    "```\n",
    "potet - hru_intcpevap - snow_evap - hru_impervevap - dprst_evap_hru\n",
    "```"
   ]
  },
  {
   "cell_type": "code",
   "execution_count": null,
   "id": "f08a3310-c01f-4c72-afb2-f72d74519579",
   "metadata": {},
   "outputs": [],
   "source": [
    "# potential\n",
    "pet = pd.read_csv(data_dir / \"potet.csv\", index_col=0)\n",
    "intcpevap = pd.read_csv(data_dir / \"hru_intcpevap.csv\", index_col=0)\n",
    "snowevap = pd.read_csv(data_dir / \"snow_evap.csv\", index_col=0)\n",
    "impervevap = pd.read_csv(data_dir / \"hru_impervevap.csv\", index_col=0)\n",
    "dprstevap = pd.read_csv(data_dir / \"dprst_evap_hru.csv\", index_col=0)"
   ]
  },
  {
   "cell_type": "code",
   "execution_count": null,
   "id": "01266a11-05d4-4198-9323-5cc4a5540bdc",
   "metadata": {},
   "outputs": [],
   "source": [
    "# soil pet\n",
    "pet[\"pet m/day\"] = (\n",
    "    pet[tag]\n",
    "    - intcpevap[tag]\n",
    "    - snowevap[tag]\n",
    "    - impervevap[tag]\n",
    "    - dprstevap[tag]\n",
    ") * in2m\n",
    "pet = pet.drop(tag, axis=1)\n",
    "pet.columns"
   ]
  },
  {
   "cell_type": "code",
   "execution_count": null,
   "id": "d22aa795-affb-4f5b-b02f-476ed2e31a0c",
   "metadata": {},
   "outputs": [],
   "source": [
    "ax = rain.plot()\n",
    "pet.plot(ax=ax, label=\"pet\")"
   ]
  },
  {
   "cell_type": "markdown",
   "id": "7dfb039f-399f-4d50-9470-0f14ec61e704",
   "metadata": {},
   "source": [
    "Control volume"
   ]
  },
  {
   "cell_type": "code",
   "execution_count": null,
   "id": "c580caee-585a-48e1-a597-78aa6de22825",
   "metadata": {},
   "outputs": [],
   "source": [
    "cv = simple_soil.base.ControlVolume(\n",
    "    thickness=3.0,\n",
    "    max_vertical_rate=0.0305,\n",
    "    horizontal_vertical_ratio=1.0,\n",
    "    theta0=0.3,\n",
    "    theta_wp=0.1,\n",
    "    theta_fc=0.3,\n",
    "    theta_sat=0.44,\n",
    "    infiltration_method=\"green-ampt\",\n",
    "    soil=\"loam\",\n",
    ")\n",
    "cv.infiltration_method.set_infiltration_time(1.0)"
   ]
  },
  {
   "cell_type": "code",
   "execution_count": null,
   "id": "63d0c421-925b-473b-94d6-1a3ef3ebd545",
   "metadata": {},
   "outputs": [],
   "source": [
    "for inflow, pet_rate in zip(rain[\"ppt m/day\"], pet[\"pet m/day\"]):\n",
    "    cv.update(inflow_rate=inflow, pet_rate=pet_rate * 0.0)"
   ]
  },
  {
   "cell_type": "code",
   "execution_count": null,
   "id": "3957160c-c68a-4e9f-b83d-3813a44e5e4d",
   "metadata": {},
   "outputs": [],
   "source": [
    "df = cv.get_dataframe(normalize=True)"
   ]
  },
  {
   "cell_type": "code",
   "execution_count": null,
   "id": "dcc541af-f38d-456f-88b0-39ea1eb5eecb",
   "metadata": {},
   "outputs": [],
   "source": [
    "df"
   ]
  },
  {
   "cell_type": "code",
   "execution_count": null,
   "id": "4cf549d5-85e9-4f45-a54d-0e4a36cd0cd3",
   "metadata": {},
   "outputs": [],
   "source": [
    "ax = (df[\"rejected_inflow_L/T\"] + df[\"inflow_L/T\"]).plot()\n",
    "df[\"rejected_inflow_L/T\"].plot(ax=ax)\n",
    "df[\"inflow_L/T\"].plot(ax=ax)\n",
    "ax.legend()"
   ]
  },
  {
   "cell_type": "code",
   "execution_count": null,
   "id": "747c3eea-5547-42c2-b4c7-470923e83109",
   "metadata": {},
   "outputs": [],
   "source": [
    "ax = df[\"theta\"].plot()\n",
    "ax.axhline(cv.theta_fc, lw=0.5, color=\"0.5\")\n",
    "ax.axhline(cv.theta_discharge, lw=0.5, color=\"0.5\")\n",
    "ax.axhline(cv.theta_sat, lw=0.5, color=\"0.5\")"
   ]
  },
  {
   "cell_type": "code",
   "execution_count": null,
   "id": "ec2c6d05-2e07-40e3-961a-78eb657e2faa",
   "metadata": {},
   "outputs": [],
   "source": [
    "ax = df[\"recharge_L/T\"].plot()\n",
    "df[\"lateral_L/T\"].plot(ax=ax, ls=\"--\")\n",
    "df[\"storage_change_L/T\"].plot(ax=ax)\n",
    "ax.legend()"
   ]
  },
  {
   "cell_type": "code",
   "execution_count": null,
   "id": "45311ce1-9f70-4479-9419-180d63f57bba",
   "metadata": {},
   "outputs": [],
   "source": []
  }
 ],
 "metadata": {
  "kernelspec": {
   "display_name": "Python 3 (ipykernel)",
   "language": "python",
   "name": "python3"
  },
  "language_info": {
   "codemirror_mode": {
    "name": "ipython",
    "version": 3
   },
   "file_extension": ".py",
   "mimetype": "text/x-python",
   "name": "python",
   "nbconvert_exporter": "python",
   "pygments_lexer": "ipython3",
   "version": "3.9.16"
  }
 },
 "nbformat": 4,
 "nbformat_minor": 5
}
