{
 "cells": [
  {
   "cell_type": "code",
   "execution_count": null,
   "id": "456b68af-37bd-4799-9f14-2cd6285fc7cc",
   "metadata": {},
   "outputs": [],
   "source": [
    "import pathlib as pl\n",
    "import pandas as pd\n",
    "import numpy as np\n",
    "import matplotlib.pyplot as plt\n",
    "import simple_soil"
   ]
  },
  {
   "cell_type": "code",
   "execution_count": null,
   "id": "81c156a9-4896-4082-aaad-17034643432e",
   "metadata": {},
   "outputs": [],
   "source": [
    "rain_path = pl.Path(\"data/hru_1_rain.csv\")"
   ]
  },
  {
   "cell_type": "code",
   "execution_count": null,
   "id": "945d37ac-4a30-431b-a38c-abb74949fcfc",
   "metadata": {},
   "outputs": [],
   "source": [
    "rain = pd.read_csv(rain_path, index_col=0)\n",
    "rain.columns"
   ]
  },
  {
   "cell_type": "code",
   "execution_count": null,
   "id": "257f60bf-a3a3-4f15-91b0-ff28bdf44a4b",
   "metadata": {},
   "outputs": [],
   "source": [
    "rain = rain.drop(\"ppt in/day\", axis=1)\n",
    "rain.columns"
   ]
  },
  {
   "cell_type": "code",
   "execution_count": null,
   "id": "c3e29a84-3a17-49fa-bd29-3cf3e525ab9f",
   "metadata": {},
   "outputs": [],
   "source": [
    "pet = pd.read_csv(pl.Path(\"data/hru_1_potet.csv\"), index_col=0)\n",
    "pet = pet.drop(\"pet in/day\", axis=1)\n",
    "pet.columns"
   ]
  },
  {
   "cell_type": "code",
   "execution_count": null,
   "id": "c580caee-585a-48e1-a597-78aa6de22825",
   "metadata": {},
   "outputs": [],
   "source": [
    "area = 2715.617356  # acres\n",
    "area *= 4046.86  # square meters\n",
    "# area = 1.\n",
    "max_vertical_rate = 0.1\n",
    "cv = simple_soil.base.ControlVolume(\n",
    "    area=area, thickness=3.0, max_vertical_rate=max_vertical_rate, theta0=0.1\n",
    ")"
   ]
  },
  {
   "cell_type": "code",
   "execution_count": null,
   "id": "3d7f4247-f649-4a3a-9ceb-36962f0d6c8d",
   "metadata": {},
   "outputs": [],
   "source": [
    "cv"
   ]
  },
  {
   "cell_type": "code",
   "execution_count": null,
   "id": "63d0c421-925b-473b-94d6-1a3ef3ebd545",
   "metadata": {},
   "outputs": [],
   "source": [
    "for inflow, pet_rate in zip(rain[\"ppt m/day\"][0:366], pet[\"pet m/day\"][0:366]):\n",
    "    cv.update(inflow_rate=inflow, pet_rate=pet_rate * 0.5)"
   ]
  },
  {
   "cell_type": "code",
   "execution_count": null,
   "id": "359618f8-6d5c-4688-8b1c-db8c0c93feb8",
   "metadata": {},
   "outputs": [],
   "source": [
    "cv.output_dict.keys()"
   ]
  },
  {
   "cell_type": "code",
   "execution_count": null,
   "id": "3957160c-c68a-4e9f-b83d-3813a44e5e4d",
   "metadata": {},
   "outputs": [],
   "source": [
    "df = cv.get_dataframe(normalize=True)"
   ]
  },
  {
   "cell_type": "code",
   "execution_count": null,
   "id": "dcc541af-f38d-456f-88b0-39ea1eb5eecb",
   "metadata": {},
   "outputs": [],
   "source": [
    "df"
   ]
  },
  {
   "cell_type": "code",
   "execution_count": null,
   "id": "46773460-9f88-4d5b-95a9-f4af4942d223",
   "metadata": {},
   "outputs": [],
   "source": [
    "ax = df[\"iterations\"].plot()"
   ]
  },
  {
   "cell_type": "code",
   "execution_count": null,
   "id": "747c3eea-5547-42c2-b4c7-470923e83109",
   "metadata": {},
   "outputs": [],
   "source": [
    "ax = df[\"theta\"].plot()\n",
    "ax.axhline(cv.theta_fc, lw=0.5, color=\"0.5\")"
   ]
  },
  {
   "cell_type": "code",
   "execution_count": null,
   "id": "ec2c6d05-2e07-40e3-961a-78eb657e2faa",
   "metadata": {},
   "outputs": [],
   "source": [
    "ax = df[\"recharge_L/T\"].plot()\n",
    "df[\"lateral_L/T\"].plot(ax=ax)\n",
    "df[\"storage_change_L/T\"].plot(ax=ax)\n",
    "ax.legend()"
   ]
  },
  {
   "cell_type": "code",
   "execution_count": null,
   "id": "97a52bf5-4705-46f0-bde1-ed548202d647",
   "metadata": {},
   "outputs": [],
   "source": [
    "plt.plot(cv.output_dict[\"total_time\"], rain[\"ppt m/day\"][0:366])\n",
    "plt.plot(cv.output_dict[\"total_time\"], cv.output_dict[\"inflow_L3/T\"])\n",
    "plt.plot(cv.output_dict[\"total_time\"], cv.output_dict[\"rejected_inflow_L3/T\"])"
   ]
  },
  {
   "cell_type": "code",
   "execution_count": null,
   "id": "be4868a9-28eb-49ce-90f2-138e08741236",
   "metadata": {},
   "outputs": [],
   "source": [
    "plt.plot(cv.output_dict[\"total_time\"], cv.output_dict[\"recharge_L3/T\"])"
   ]
  },
  {
   "cell_type": "code",
   "execution_count": null,
   "id": "d88d654e-adc1-46a7-a0d4-655cd0b6d166",
   "metadata": {},
   "outputs": [],
   "source": [
    "plt.plot(cv.output_dict[\"total_time\"], cv.output_dict[\"theta\"])\n",
    "plt.gca().axhline(cv.theta_fc, lw=0.5, color=\"0.5\")"
   ]
  },
  {
   "cell_type": "code",
   "execution_count": null,
   "id": "45311ce1-9f70-4479-9419-180d63f57bba",
   "metadata": {},
   "outputs": [],
   "source": []
  }
 ],
 "metadata": {
  "kernelspec": {
   "display_name": "Python 3 (ipykernel)",
   "language": "python",
   "name": "python3"
  },
  "language_info": {
   "codemirror_mode": {
    "name": "ipython",
    "version": 3
   },
   "file_extension": ".py",
   "mimetype": "text/x-python",
   "name": "python",
   "nbconvert_exporter": "python",
   "pygments_lexer": "ipython3",
   "version": "3.9.16"
  }
 },
 "nbformat": 4,
 "nbformat_minor": 5
}
