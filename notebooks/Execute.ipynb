{
 "cells": [
  {
   "cell_type": "code",
   "execution_count": null,
   "id": "456b68af-37bd-4799-9f14-2cd6285fc7cc",
   "metadata": {},
   "outputs": [],
   "source": [
    "import pathlib as pl\n",
    "import pandas as pd\n",
    "import numpy as np\n",
    "import matplotlib.pyplot as plt\n",
    "import simple_soil"
   ]
  },
  {
   "cell_type": "markdown",
   "id": "c57d9aa1-d690-4dbe-a4d7-7e2a9cf03a9c",
   "metadata": {},
   "source": [
    "Conversion factors"
   ]
  },
  {
   "cell_type": "code",
   "execution_count": null,
   "id": "ebbdf5a8-f51e-4f55-9207-995822dac645",
   "metadata": {},
   "outputs": [],
   "source": [
    "in2m = 1.0 / (12.0 * 3.28081)\n",
    "acre2sqm = 4046.86"
   ]
  },
  {
   "cell_type": "markdown",
   "id": "9b0bce66-97e9-4e48-bab0-c7f833e7b5f6",
   "metadata": {},
   "source": [
    "hru_1 parameters"
   ]
  },
  {
   "cell_type": "code",
   "execution_count": null,
   "id": "26672094-47b7-4e15-aa05-8bbbf7b110d1",
   "metadata": {},
   "outputs": [],
   "source": [
    "area = 2715.617356 * acre2sqm\n",
    "factor = 10000.0\n",
    "max_vertical_rate = 0.05  # 0.08239 * in2m * factor\n",
    "horizontal_vertical_ratio = 1.0  # 0.01 * in2m * factor / max_vertical_rate"
   ]
  },
  {
   "cell_type": "code",
   "execution_count": null,
   "id": "5c210a50-7a89-4c67-a349-8f601f0e0291",
   "metadata": {},
   "outputs": [],
   "source": [
    "theta_sat = 0.2\n",
    "theta_fc = 0.1\n",
    "theta_wp = 0.01"
   ]
  },
  {
   "cell_type": "code",
   "execution_count": null,
   "id": "c83acb97-2365-4a39-9851-5ad8ac129c6f",
   "metadata": {},
   "outputs": [],
   "source": [
    "thickness = 3.0  # 0.659252 * in2m / theta_fc\n",
    "thickness"
   ]
  },
  {
   "cell_type": "markdown",
   "id": "d9998f80-3ac8-4517-8cc1-91e7369b4887",
   "metadata": {},
   "source": [
    "Forcing data"
   ]
  },
  {
   "cell_type": "code",
   "execution_count": null,
   "id": "197f075c-9e01-45b2-84d9-c3f2930d7025",
   "metadata": {},
   "outputs": [],
   "source": [
    "tag = \" 2\""
   ]
  },
  {
   "cell_type": "code",
   "execution_count": null,
   "id": "6672647d-861c-45de-ac83-020cbd331b39",
   "metadata": {},
   "outputs": [],
   "source": [
    "# rainfall\n",
    "rain = pd.read_csv(pl.Path(\"data/hru_1_rain.csv\"), index_col=0)\n",
    "rain[\"ppt m/day\"] = rain[tag] * in2m\n",
    "rain = rain.drop(tag, axis=1)\n",
    "rain.columns"
   ]
  },
  {
   "cell_type": "code",
   "execution_count": null,
   "id": "bfc9a36e-618c-4166-b7f5-93f8dc30296b",
   "metadata": {},
   "outputs": [],
   "source": [
    "# canopy et\n",
    "canopy_et = pd.read_csv(pl.Path(\"data/hru_1_intcpevap.csv\"), index_col=0)"
   ]
  },
  {
   "cell_type": "code",
   "execution_count": null,
   "id": "f08a3310-c01f-4c72-afb2-f72d74519579",
   "metadata": {},
   "outputs": [],
   "source": [
    "# potential\n",
    "pet = pd.read_csv(pl.Path(\"data/hru_1_potet.csv\"), index_col=0)"
   ]
  },
  {
   "cell_type": "code",
   "execution_count": null,
   "id": "46288a06-4735-4be9-93ad-d4c2d2ad057a",
   "metadata": {},
   "outputs": [],
   "source": [
    "ax = canopy_et.plot(label=\"canopy\")\n",
    "pet.plot(ax=ax, label=\"pet\")"
   ]
  },
  {
   "cell_type": "code",
   "execution_count": null,
   "id": "01266a11-05d4-4198-9323-5cc4a5540bdc",
   "metadata": {},
   "outputs": [],
   "source": [
    "# soil pet\n",
    "pet[\"pet m/day\"] = (pet[tag] - canopy_et[tag]) * in2m\n",
    "pet = pet.drop(tag, axis=1)\n",
    "pet.columns"
   ]
  },
  {
   "cell_type": "code",
   "execution_count": null,
   "id": "d22aa795-affb-4f5b-b02f-476ed2e31a0c",
   "metadata": {},
   "outputs": [],
   "source": [
    "ax = rain.plot()\n",
    "pet.plot(ax=ax, label=\"pet\")"
   ]
  },
  {
   "cell_type": "markdown",
   "id": "7dfb039f-399f-4d50-9470-0f14ec61e704",
   "metadata": {},
   "source": [
    "Control volume"
   ]
  },
  {
   "cell_type": "code",
   "execution_count": null,
   "id": "c580caee-585a-48e1-a597-78aa6de22825",
   "metadata": {},
   "outputs": [],
   "source": [
    "cv = simple_soil.base.ControlVolume(\n",
    "    area=area,\n",
    "    thickness=thickness,\n",
    "    max_vertical_rate=max_vertical_rate,\n",
    "    horizontal_vertical_ratio=horizontal_vertical_ratio,\n",
    "    theta0=0.1,\n",
    "    theta_wp=theta_wp,\n",
    "    theta_fc=theta_fc,\n",
    "    theta_sat=theta_sat,\n",
    ")"
   ]
  },
  {
   "cell_type": "code",
   "execution_count": null,
   "id": "3d7f4247-f649-4a3a-9ceb-36962f0d6c8d",
   "metadata": {},
   "outputs": [],
   "source": [
    "cv"
   ]
  },
  {
   "cell_type": "code",
   "execution_count": null,
   "id": "63d0c421-925b-473b-94d6-1a3ef3ebd545",
   "metadata": {},
   "outputs": [],
   "source": [
    "for inflow, pet_rate in zip(rain[\"ppt m/day\"][0:366], pet[\"pet m/day\"][0:366]):\n",
    "    cv.update(inflow_rate=inflow, pet_rate=pet_rate * 0.5)"
   ]
  },
  {
   "cell_type": "code",
   "execution_count": null,
   "id": "3957160c-c68a-4e9f-b83d-3813a44e5e4d",
   "metadata": {},
   "outputs": [],
   "source": [
    "df = cv.get_dataframe(normalize=True)"
   ]
  },
  {
   "cell_type": "code",
   "execution_count": null,
   "id": "dcc541af-f38d-456f-88b0-39ea1eb5eecb",
   "metadata": {},
   "outputs": [],
   "source": [
    "df"
   ]
  },
  {
   "cell_type": "code",
   "execution_count": null,
   "id": "4cf549d5-85e9-4f45-a54d-0e4a36cd0cd3",
   "metadata": {},
   "outputs": [],
   "source": [
    "ax = (df[\"rejected_inflow_L/T\"] + df[\"inflow_L/T\"]).plot()\n",
    "df[\"rejected_inflow_L/T\"].plot(ax=ax)\n",
    "df[\"inflow_L/T\"].plot(ax=ax)\n",
    "ax.legend()"
   ]
  },
  {
   "cell_type": "code",
   "execution_count": null,
   "id": "747c3eea-5547-42c2-b4c7-470923e83109",
   "metadata": {},
   "outputs": [],
   "source": [
    "ax = df[\"theta\"].plot()\n",
    "ax.axhline(cv.theta_fc, lw=0.5, color=\"0.5\")\n",
    "ax.axhline(cv.theta_discharge, lw=0.5, color=\"0.5\")\n",
    "ax.axhline(cv.theta_sat, lw=0.5, color=\"0.5\")"
   ]
  },
  {
   "cell_type": "code",
   "execution_count": null,
   "id": "ec2c6d05-2e07-40e3-961a-78eb657e2faa",
   "metadata": {},
   "outputs": [],
   "source": [
    "ax = df[\"recharge_L/T\"].plot()\n",
    "df[\"lateral_L/T\"].plot(ax=ax, ls=\"--\")\n",
    "df[\"storage_change_L/T\"].plot(ax=ax)\n",
    "ax.legend()"
   ]
  },
  {
   "cell_type": "code",
   "execution_count": null,
   "id": "45311ce1-9f70-4479-9419-180d63f57bba",
   "metadata": {},
   "outputs": [],
   "source": []
  }
 ],
 "metadata": {
  "kernelspec": {
   "display_name": "Python 3 (ipykernel)",
   "language": "python",
   "name": "python3"
  },
  "language_info": {
   "codemirror_mode": {
    "name": "ipython",
    "version": 3
   },
   "file_extension": ".py",
   "mimetype": "text/x-python",
   "name": "python",
   "nbconvert_exporter": "python",
   "pygments_lexer": "ipython3",
   "version": "3.9.16"
  }
 },
 "nbformat": 4,
 "nbformat_minor": 5
}
