{
 "cells": [
  {
   "cell_type": "code",
   "execution_count": null,
   "id": "456b68af-37bd-4799-9f14-2cd6285fc7cc",
   "metadata": {},
   "outputs": [],
   "source": [
    "import pathlib as pl\n",
    "import pandas as pd\n",
    "import numpy as np\n",
    "import matplotlib.pyplot as plt\n",
    "import simple_soil"
   ]
  },
  {
   "cell_type": "code",
   "execution_count": null,
   "id": "81c156a9-4896-4082-aaad-17034643432e",
   "metadata": {},
   "outputs": [],
   "source": [
    "rain_path = pl.Path(\"data/hru_1_rain.csv\")"
   ]
  },
  {
   "cell_type": "code",
   "execution_count": null,
   "id": "945d37ac-4a30-431b-a38c-abb74949fcfc",
   "metadata": {},
   "outputs": [],
   "source": [
    "rain = pd.read_csv(rain_path, index_col=0)\n",
    "rain.columns"
   ]
  },
  {
   "cell_type": "code",
   "execution_count": null,
   "id": "257f60bf-a3a3-4f15-91b0-ff28bdf44a4b",
   "metadata": {},
   "outputs": [],
   "source": [
    "rain = rain.drop(\"ppt in/day\", axis=1)\n",
    "rain.columns"
   ]
  },
  {
   "cell_type": "code",
   "execution_count": null,
   "id": "c3e29a84-3a17-49fa-bd29-3cf3e525ab9f",
   "metadata": {},
   "outputs": [],
   "source": [
    "pet = pd.read_csv(pl.Path(\"data/hru_1_potet.csv\"), index_col=0)\n",
    "pet = pet.drop(\"pet in/day\", axis=1)\n",
    "pet.columns"
   ]
  },
  {
   "cell_type": "code",
   "execution_count": null,
   "id": "c580caee-585a-48e1-a597-78aa6de22825",
   "metadata": {},
   "outputs": [],
   "source": [
    "max_vertical_rate = 0.1\n",
    "cv = simple_soil.base.ControlVolume(max_vertical_rate=max_vertical_rate)"
   ]
  },
  {
   "cell_type": "code",
   "execution_count": null,
   "id": "63d0c421-925b-473b-94d6-1a3ef3ebd545",
   "metadata": {},
   "outputs": [],
   "source": [
    "for inflow, pet_rate in zip(rain[\"ppt m/day\"][0:366], pet[\"pet m/day\"][0:366]):\n",
    "    cv.update(inflow_rate=inflow, pet_rate=pet_rate)\n"
   ]
  },
  {
   "cell_type": "code",
   "execution_count": null,
   "id": "359618f8-6d5c-4688-8b1c-db8c0c93feb8",
   "metadata": {},
   "outputs": [],
   "source": [
    "cv.output_dict.keys()"
   ]
  },
  {
   "cell_type": "code",
   "execution_count": null,
   "id": "97a52bf5-4705-46f0-bde1-ed548202d647",
   "metadata": {},
   "outputs": [],
   "source": [
    "plt.plot(cv.output_dict[\"total_time\"], rain[\"ppt m/day\"][0:366])\n",
    "plt.plot(cv.output_dict[\"total_time\"], cv.output_dict[\"inflow_volume\"])\n",
    "plt.plot(cv.output_dict[\"total_time\"], cv.output_dict[\"rejected_inflow_volume\"])"
   ]
  },
  {
   "cell_type": "code",
   "execution_count": null,
   "id": "be4868a9-28eb-49ce-90f2-138e08741236",
   "metadata": {},
   "outputs": [],
   "source": [
    "plt.plot(cv.output_dict[\"total_time\"], cv.output_dict[\"recharge_volume\"])"
   ]
  },
  {
   "cell_type": "code",
   "execution_count": null,
   "id": "d88d654e-adc1-46a7-a0d4-655cd0b6d166",
   "metadata": {},
   "outputs": [],
   "source": [
    "plt.plot(cv.output_dict[\"total_time\"], cv.output_dict[\"theta\"])\n",
    "plt.gca().axhline(cv.theta_fc, lw=0.5, color=\"0.5\")"
   ]
  },
  {
   "cell_type": "code",
   "execution_count": null,
   "id": "45311ce1-9f70-4479-9419-180d63f57bba",
   "metadata": {},
   "outputs": [],
   "source": []
  }
 ],
 "metadata": {
  "kernelspec": {
   "display_name": "Python 3 (ipykernel)",
   "language": "python",
   "name": "python3"
  },
  "language_info": {
   "codemirror_mode": {
    "name": "ipython",
    "version": 3
   },
   "file_extension": ".py",
   "mimetype": "text/x-python",
   "name": "python",
   "nbconvert_exporter": "python",
   "pygments_lexer": "ipython3",
   "version": "3.9.16"
  }
 },
 "nbformat": 4,
 "nbformat_minor": 5
}
