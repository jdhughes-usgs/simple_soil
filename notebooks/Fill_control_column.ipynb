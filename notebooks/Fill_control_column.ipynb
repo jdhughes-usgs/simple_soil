{
 "cells": [
  {
   "cell_type": "code",
   "execution_count": null,
   "id": "456b68af-37bd-4799-9f14-2cd6285fc7cc",
   "metadata": {},
   "outputs": [],
   "source": [
    "import pathlib as pl\n",
    "import pandas as pd\n",
    "import numpy as np\n",
    "import matplotlib.pyplot as plt\n",
    "import simple_soil"
   ]
  },
  {
   "cell_type": "code",
   "execution_count": null,
   "id": "c580caee-585a-48e1-a597-78aa6de22825",
   "metadata": {},
   "outputs": [],
   "source": [
    "max_vertical_rate = 0.05\n",
    "area = 1.0\n",
    "thickness = 1.0\n",
    "horizontal_vertical_ratio = 1.05\n",
    "discharge_thickness = 0.05\n",
    "rain = 1.0\n",
    "theta0 = 0.01\n",
    "cv = simple_soil.base.ControlVolume(\n",
    "    area=area,\n",
    "    thickness=thickness,\n",
    "    max_vertical_rate=max_vertical_rate,\n",
    "    theta0=theta0,\n",
    "    horizontal_vertical_ratio=horizontal_vertical_ratio,\n",
    "    discharge_thickness=discharge_thickness,\n",
    ")"
   ]
  },
  {
   "cell_type": "code",
   "execution_count": null,
   "id": "63d0c421-925b-473b-94d6-1a3ef3ebd545",
   "metadata": {},
   "outputs": [],
   "source": [
    "for idx in range(366):\n",
    "    cv.update(inflow_rate=rain, pet_rate=0.0)"
   ]
  },
  {
   "cell_type": "code",
   "execution_count": null,
   "id": "3957160c-c68a-4e9f-b83d-3813a44e5e4d",
   "metadata": {},
   "outputs": [],
   "source": [
    "df = cv.get_dataframe(normalize=True)"
   ]
  },
  {
   "cell_type": "code",
   "execution_count": null,
   "id": "dcc541af-f38d-456f-88b0-39ea1eb5eecb",
   "metadata": {},
   "outputs": [],
   "source": [
    "df"
   ]
  },
  {
   "cell_type": "code",
   "execution_count": null,
   "id": "747c3eea-5547-42c2-b4c7-470923e83109",
   "metadata": {},
   "outputs": [],
   "source": [
    "ax = df[\"theta\"].plot()\n",
    "ax.axhline(cv.theta_fc, lw=0.5, color=\"0.5\")\n",
    "ax.axhline(cv.theta_sat, lw=0.5, color=\"0.5\")"
   ]
  },
  {
   "cell_type": "code",
   "execution_count": null,
   "id": "ec2c6d05-2e07-40e3-961a-78eb657e2faa",
   "metadata": {},
   "outputs": [],
   "source": [
    "ax = df[\"recharge_L/T\"].plot()\n",
    "df[\"inflow_L/T\"].plot(ax=ax)\n",
    "# df[\"rejected_inflow_L/T\"].plot(ax=ax)\n",
    "df[\"lateral_L/T\"].plot(ax=ax, ls=\"--\")\n",
    "df[\"surface_L/T\"].plot(ax=ax)\n",
    "df[\"storage_change_L/T\"].plot(ax=ax)\n",
    "ax.legend();"
   ]
  },
  {
   "cell_type": "code",
   "execution_count": null,
   "id": "45311ce1-9f70-4479-9419-180d63f57bba",
   "metadata": {},
   "outputs": [],
   "source": []
  },
  {
   "cell_type": "code",
   "execution_count": null,
   "id": "6fca11bb-cae1-4396-b873-45e8032ece95",
   "metadata": {},
   "outputs": [],
   "source": []
  }
 ],
 "metadata": {
  "kernelspec": {
   "display_name": "Python 3 (ipykernel)",
   "language": "python",
   "name": "python3"
  },
  "language_info": {
   "codemirror_mode": {
    "name": "ipython",
    "version": 3
   },
   "file_extension": ".py",
   "mimetype": "text/x-python",
   "name": "python",
   "nbconvert_exporter": "python",
   "pygments_lexer": "ipython3",
   "version": "3.9.16"
  }
 },
 "nbformat": 4,
 "nbformat_minor": 5
}
