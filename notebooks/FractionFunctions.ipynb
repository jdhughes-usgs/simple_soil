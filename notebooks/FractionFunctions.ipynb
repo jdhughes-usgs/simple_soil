{
 "cells": [
  {
   "cell_type": "code",
   "execution_count": null,
   "id": "d0c7f8d4-2db8-45ef-bcad-72fd9f5cc687",
   "metadata": {},
   "outputs": [],
   "source": [
    "import numpy as np\n",
    "import matplotlib.pyplot as plt\n",
    "import simple_soil\n",
    "import flopy.plot.styles as styles"
   ]
  },
  {
   "cell_type": "code",
   "execution_count": null,
   "id": "8f40844b-221d-4042-a438-3e89c1791aa5",
   "metadata": {},
   "outputs": [],
   "source": [
    "cv = simple_soil.base.ControlVolume(smoothing_omega=0.075)"
   ]
  },
  {
   "cell_type": "code",
   "execution_count": null,
   "id": "187ee18e-f55b-4da8-b8ce-cef435eeb933",
   "metadata": {},
   "outputs": [],
   "source": [
    "cv"
   ]
  },
  {
   "cell_type": "code",
   "execution_count": null,
   "id": "1567a4c6-b390-41fd-8112-4923a0c73806",
   "metadata": {},
   "outputs": [],
   "source": [
    "dtheta = 0.0005\n",
    "soil_moisture = np.arange(0, cv.theta_sat + 10.0 * dtheta, dtheta)"
   ]
  },
  {
   "cell_type": "code",
   "execution_count": null,
   "id": "761b2840-716e-41ad-ae17-24f52d9d5026",
   "metadata": {},
   "outputs": [],
   "source": [
    "soil_moisture"
   ]
  },
  {
   "cell_type": "code",
   "execution_count": null,
   "id": "e803e6e5-4d28-4d44-9867-2db88afeacae",
   "metadata": {},
   "outputs": [],
   "source": [
    "fraction_saturation = simple_soil.utils.saturation_fraction(\n",
    "    soil_moisture,\n",
    "    cv.theta_sat,\n",
    "    cv.smoothing_omega,\n",
    ")"
   ]
  },
  {
   "cell_type": "code",
   "execution_count": null,
   "id": "f4511c5c-ae1e-46e4-bd6c-c008b2660fea",
   "metadata": {},
   "outputs": [],
   "source": [
    "fraction_gw = simple_soil.utils.groundwater_recharge_fraction(\n",
    "    soil_moisture,\n",
    "    cv.theta_sat,\n",
    "    cv.theta_fc,\n",
    "    smoothing_omega=cv.smoothing_omega,\n",
    ")"
   ]
  },
  {
   "cell_type": "code",
   "execution_count": null,
   "id": "98c1e806-e476-41cb-abeb-a4818151a248",
   "metadata": {},
   "outputs": [],
   "source": [
    "fraction_lateral = simple_soil.utils.lateral_discharge_fraction(\n",
    "    soil_moisture,\n",
    "    cv.theta_sat,\n",
    "    cv.theta_fc,\n",
    "    smoothing_omega=cv.smoothing_omega,\n",
    ")"
   ]
  },
  {
   "cell_type": "code",
   "execution_count": null,
   "id": "caffc99a-15a3-4436-87d3-9c0dba144828",
   "metadata": {},
   "outputs": [],
   "source": [
    "fraction_surface = simple_soil.utils.surface_discharge_fraction(\n",
    "    soil_moisture,\n",
    "    cv.theta_sat,\n",
    "    cv.theta_discharge,\n",
    "    smoothing_omega=cv.smoothing_omega,\n",
    ")"
   ]
  },
  {
   "cell_type": "code",
   "execution_count": null,
   "id": "f4f17fdb-d93b-441a-b104-50b541c759d8",
   "metadata": {},
   "outputs": [],
   "source": [
    "fraction_infiltration = simple_soil.utils.surface_infiltration_fraction(\n",
    "    soil_moisture,\n",
    "    cv.theta_sat,\n",
    "    cv.theta_discharge,\n",
    "    smoothing_omega=cv.smoothing_omega,\n",
    ")"
   ]
  },
  {
   "cell_type": "code",
   "execution_count": null,
   "id": "582168f1-619a-49ef-a8bb-2cc6b3079df3",
   "metadata": {},
   "outputs": [],
   "source": [
    "fraction_pet = simple_soil.utils.pet_fraction(\n",
    "    soil_moisture,\n",
    "    cv.theta_pet_max,\n",
    "    cv.theta_wp,\n",
    "    smoothing_omega=cv.smoothing_omega,\n",
    ")"
   ]
  },
  {
   "cell_type": "code",
   "execution_count": null,
   "id": "41b77c0a-8627-4c00-8d03-50b68f3395df",
   "metadata": {},
   "outputs": [],
   "source": [
    "ranges = (\n",
    "    0,\n",
    "    cv.theta_wp,\n",
    "    cv.theta_pet_max,\n",
    "    cv.theta_fc,\n",
    "    cv.theta_discharge,\n",
    "    cv.theta_sat,\n",
    "    soil_moisture[-1],\n",
    ")\n",
    "colors = (\"0.25\", \"brown\", \"green\", \"cyan\", \"blue\", \"none\")\n",
    "labels = (\n",
    "    r\"$< \\theta_{wp}$\",\n",
    "    r\"$\\theta_{wp}$\",\n",
    "    r\"$\\theta_{pet}$\",\n",
    "    r\"$\\theta_{fc}$\",\n",
    "    r\"$\\theta_{sur}$\",\n",
    "    r\"$\\theta_{sat}$\",\n",
    "    None,\n",
    ")"
   ]
  },
  {
   "cell_type": "code",
   "execution_count": null,
   "id": "a89127bd-630e-4ed3-8677-9ae6eb69a8e4",
   "metadata": {},
   "outputs": [],
   "source": [
    "line_dict = {\"lw\": 1.5, \"color\": \"black\", \"clip_on\": False}\n",
    "moisture_dict = {\"lw\": 0.5, \"color\": \"0.5\", \"ls\": \"--\"}"
   ]
  },
  {
   "cell_type": "code",
   "execution_count": null,
   "id": "cfd8b471-3b16-432e-b547-009d374babfd",
   "metadata": {},
   "outputs": [],
   "source": [
    "mosaic = \"\"\"\n",
    "    AB\n",
    "    CD\n",
    "    EF\n",
    "    \"\"\"\n",
    "with styles.USGSPlot():\n",
    "    fig = plt.figure(layout=\"constrained\", figsize=(6, 8))\n",
    "    ax_dict = fig.subplot_mosaic(mosaic, sharex=True, sharey=True)\n",
    "\n",
    "    for tag in ax_dict.keys():\n",
    "        ax = ax_dict[tag]\n",
    "        for idx, xx in enumerate(ranges[1:-1]):\n",
    "            ax.axvline(xx, **moisture_dict)\n",
    "            styles.add_text(\n",
    "                ax=ax,\n",
    "                x=xx,\n",
    "                y=1.01,\n",
    "                transform=False,\n",
    "                text=labels[idx + 1],\n",
    "                ha=\"center\",\n",
    "                va=\"bottom\",\n",
    "            )\n",
    "        ax.set_xlim(0, soil_moisture[-1])\n",
    "        ax.set_ylim(0, 1)\n",
    "\n",
    "    ax = ax_dict[\"A\"]\n",
    "    ax.plot(soil_moisture, fraction_infiltration, **line_dict)\n",
    "    ax.set_ylabel(\"Infiltration Area Fraction\")\n",
    "\n",
    "    ax = ax_dict[\"B\"]\n",
    "    ax.plot(soil_moisture, fraction_pet, **line_dict)\n",
    "    ax.set_ylabel(\"Potential Evapotranspiration Fraction\")\n",
    "\n",
    "    ax = ax_dict[\"C\"]\n",
    "    ax.plot(soil_moisture, fraction_gw, **line_dict)\n",
    "    ax.set_ylabel(\"Recharge Discharge Fraction\")\n",
    "\n",
    "    ax = ax_dict[\"D\"]\n",
    "    ax.plot(soil_moisture, fraction_lateral, **line_dict)\n",
    "    ax.set_ylabel(\"Lateral Discharge Fraction\")\n",
    "\n",
    "    ax = ax_dict[\"E\"]\n",
    "    ax.plot(soil_moisture, fraction_surface, **line_dict)\n",
    "    ax.set_xlabel(\"Soil Moisture\")\n",
    "    ax.set_ylabel(\"Surface Discharge Area Fraction\")\n",
    "\n",
    "    ax = ax_dict[\"F\"]\n",
    "    ax.plot(soil_moisture, fraction_saturation, **line_dict)\n",
    "    ax.set_xlabel(\"Soil moisture\")\n",
    "    ax.set_ylabel(\"Volume Change Fraction\");"
   ]
  },
  {
   "cell_type": "code",
   "execution_count": null,
   "id": "bb8202a7-8fc9-46d4-a99f-f143133b5dc7",
   "metadata": {},
   "outputs": [],
   "source": []
  }
 ],
 "metadata": {
  "kernelspec": {
   "display_name": "Python 3 (ipykernel)",
   "language": "python",
   "name": "python3"
  },
  "language_info": {
   "codemirror_mode": {
    "name": "ipython",
    "version": 3
   },
   "file_extension": ".py",
   "mimetype": "text/x-python",
   "name": "python",
   "nbconvert_exporter": "python",
   "pygments_lexer": "ipython3",
   "version": "3.9.16"
  }
 },
 "nbformat": 4,
 "nbformat_minor": 5
}
