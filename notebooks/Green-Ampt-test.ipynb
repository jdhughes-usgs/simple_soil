{
 "cells": [
  {
   "cell_type": "code",
   "execution_count": null,
   "id": "775cec07-7dfd-47a6-a7ea-0d5bcbcf658b",
   "metadata": {},
   "outputs": [],
   "source": [
    "import numpy as np\n",
    "import matplotlib.pyplot as plt\n",
    "import pandas as pd\n",
    "import simple_soil"
   ]
  },
  {
   "cell_type": "code",
   "execution_count": null,
   "id": "1d2cb009-f95a-468c-b965-1eca8201e8a3",
   "metadata": {},
   "outputs": [],
   "source": [
    "results_dict = {\n",
    "    \"total_time\": [],\n",
    "    \"iteration\": [],\n",
    "    \"error\": [],\n",
    "    \"F\": [],\n",
    "    \"f\": [],\n",
    "}"
   ]
  },
  {
   "cell_type": "code",
   "execution_count": null,
   "id": "4c4bc85d-b28e-4d66-abee-89ee25b7b554",
   "metadata": {},
   "outputs": [],
   "source": [
    "F_t = 0.0\n",
    "f_t = 0.0\n",
    "total_time = 0.0\n",
    "delta_t = 0.25  # hrs\n",
    "theta_sat = 0.479\n",
    "psi = 29.22  # cm\n",
    "K = 0.05  # cm/hr\n",
    "initial_saturation = 0.30  # fraction\n",
    "theta_eff = 0.423\n",
    "delta_F = 1.0e-4"
   ]
  },
  {
   "cell_type": "code",
   "execution_count": null,
   "id": "3cfa4061-4d22-4ce3-8c32-06f5364086c4",
   "metadata": {},
   "outputs": [],
   "source": [
    "theta_wp = theta_sat - theta_eff"
   ]
  },
  {
   "cell_type": "code",
   "execution_count": null,
   "id": "5bcfb576-67b1-475e-9eff-5c5b97252ed4",
   "metadata": {},
   "outputs": [],
   "source": [
    "theta = initial_saturation * (theta_sat - theta_wp) + theta_wp\n",
    "theta"
   ]
  },
  {
   "cell_type": "code",
   "execution_count": null,
   "id": "aea461e0-b2d2-4a2a-bed4-c27fc0429fd8",
   "metadata": {},
   "outputs": [],
   "source": [
    "delta_theta = theta_sat - theta\n",
    "delta_theta"
   ]
  },
  {
   "cell_type": "code",
   "execution_count": null,
   "id": "ae2e9d61-9dfa-4eda-894e-c7e518022b87",
   "metadata": {},
   "outputs": [],
   "source": [
    "def residual(F):\n",
    "    v = abs(psi) * delta_theta\n",
    "    return F - v * np.log(1.0 + F / v) - K * total_time"
   ]
  },
  {
   "cell_type": "code",
   "execution_count": null,
   "id": "dc5f3804-a2f1-4944-bf8a-89468afba742",
   "metadata": {},
   "outputs": [],
   "source": [
    "def derivative(F):\n",
    "    return (residual(F + delta_F) - residual(F)) / delta_F"
   ]
  },
  {
   "cell_type": "code",
   "execution_count": null,
   "id": "9077c70b-eb95-4aa8-83b9-d9e5678d0306",
   "metadata": {},
   "outputs": [],
   "source": [
    "def green_ampt_infiltration(F):\n",
    "    v = abs(psi) * delta_theta\n",
    "    if F == 0.0:\n",
    "        f = 0.0\n",
    "    else:\n",
    "        f = K * ((v / F) + 1)\n",
    "    return f"
   ]
  },
  {
   "cell_type": "code",
   "execution_count": null,
   "id": "0d2c4518-d757-4465-b487-78384f09cf04",
   "metadata": {},
   "outputs": [],
   "source": [
    "def fill_results(iteration, error, F_t, f_t):\n",
    "    results_dict[\"total_time\"].append(total_time)\n",
    "    results_dict[\"iteration\"].append(iteration)\n",
    "    results_dict[\"error\"].append(error)\n",
    "    results_dict[\"F\"].append(F_t)\n",
    "    results_dict[\"f\"].append(f_t)"
   ]
  },
  {
   "cell_type": "code",
   "execution_count": null,
   "id": "56e13f4c-57d0-42ca-9c6e-5dbc666f81c9",
   "metadata": {},
   "outputs": [],
   "source": [
    "def solve(F_t):\n",
    "    iter, F_t, error, converged = simple_soil.utils.newton_raphson(\n",
    "        residual, derivative, F_t\n",
    "    )\n",
    "    infiltration_rate = green_ampt_infiltration(F_t)\n",
    "    fill_results(iter, error, F_t, green_ampt_infiltration(F_t))"
   ]
  },
  {
   "cell_type": "code",
   "execution_count": null,
   "id": "33716964-b829-4176-9ee4-3b00b7bb7bbe",
   "metadata": {},
   "outputs": [],
   "source": [
    "np.arange(0, 2, 0.25)"
   ]
  },
  {
   "cell_type": "code",
   "execution_count": null,
   "id": "a3d29641-de1f-48f0-9594-4abc217e91d8",
   "metadata": {},
   "outputs": [],
   "source": [
    "for total_time in np.arange(0.0, 3.0 + delta_t, delta_t):\n",
    "    solve(F_t)"
   ]
  },
  {
   "cell_type": "code",
   "execution_count": null,
   "id": "527c4cbd-aea5-452a-9e91-924ddec85a3a",
   "metadata": {},
   "outputs": [],
   "source": [
    "df = pd.DataFrame.from_dict(\n",
    "    results_dict,\n",
    ").set_index(\"total_time\")"
   ]
  },
  {
   "cell_type": "code",
   "execution_count": null,
   "id": "f035c5d3-9cc4-47b0-83f3-5953a124ddda",
   "metadata": {},
   "outputs": [],
   "source": [
    "df"
   ]
  },
  {
   "cell_type": "code",
   "execution_count": null,
   "id": "67e3734d-fdc3-4659-819a-8074c55872a7",
   "metadata": {},
   "outputs": [],
   "source": [
    "df[\"f\"].plot()"
   ]
  },
  {
   "cell_type": "code",
   "execution_count": null,
   "id": "ed92c675-e828-4ed6-9924-f780a6e69780",
   "metadata": {},
   "outputs": [],
   "source": [
    "df[\"F\"].plot()"
   ]
  },
  {
   "cell_type": "code",
   "execution_count": null,
   "id": "0d282356-799a-4b6f-9ada-8d2d028a1ee7",
   "metadata": {},
   "outputs": [],
   "source": []
  }
 ],
 "metadata": {
  "kernelspec": {
   "display_name": "Python 3 (ipykernel)",
   "language": "python",
   "name": "python3"
  },
  "language_info": {
   "codemirror_mode": {
    "name": "ipython",
    "version": 3
   },
   "file_extension": ".py",
   "mimetype": "text/x-python",
   "name": "python",
   "nbconvert_exporter": "python",
   "pygments_lexer": "ipython3",
   "version": "3.9.16"
  }
 },
 "nbformat": 4,
 "nbformat_minor": 5
}
