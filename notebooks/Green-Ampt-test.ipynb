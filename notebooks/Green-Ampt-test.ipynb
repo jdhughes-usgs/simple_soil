{
 "cells": [
  {
   "cell_type": "code",
   "execution_count": null,
   "id": "775cec07-7dfd-47a6-a7ea-0d5bcbcf658b",
   "metadata": {},
   "outputs": [],
   "source": [
    "%matplotlib inline\n",
    "import numpy as np\n",
    "import matplotlib.pyplot as plt\n",
    "import pandas as pd\n",
    "import simple_soil\n",
    "import flopy.plot.styles as styles"
   ]
  },
  {
   "cell_type": "code",
   "execution_count": null,
   "id": "648f14a8-820a-41e9-8607-3d562cefa0a7",
   "metadata": {},
   "outputs": [],
   "source": [
    "solution_df = pd.DataFrame.from_dict(\n",
    "    {\n",
    "        \"infiltration time\": [\n",
    "            0,\n",
    "            0.25,\n",
    "            0.5,\n",
    "            0.75,\n",
    "            1.0,\n",
    "            1.25,\n",
    "        ],\n",
    "        \"F\": [\n",
    "            0.0,\n",
    "            0.4735,\n",
    "            0.6745,\n",
    "            0.8307,\n",
    "            0.9638,\n",
    "            1.082,\n",
    "        ],\n",
    "        \"f\": [\n",
    "            0.0,\n",
    "            0.963,\n",
    "            0.691,\n",
    "            0.5707,\n",
    "            0.4988,\n",
    "            0.4498,\n",
    "        ],\n",
    "    },\n",
    ").set_index(\"infiltration time\")\n",
    "solution_df"
   ]
  },
  {
   "cell_type": "code",
   "execution_count": null,
   "id": "1d2cb009-f95a-468c-b965-1eca8201e8a3",
   "metadata": {},
   "outputs": [],
   "source": [
    "results_dict = {\n",
    "    \"infiltration time\": [],\n",
    "    \"iteration\": [],\n",
    "    \"error\": [],\n",
    "    \"F\": [],\n",
    "    \"f\": [],\n",
    "}"
   ]
  },
  {
   "cell_type": "code",
   "execution_count": null,
   "id": "4c4bc85d-b28e-4d66-abee-89ee25b7b554",
   "metadata": {},
   "outputs": [],
   "source": [
    "F_t = 0.0\n",
    "f_t = 0.0\n",
    "infiltration_time = 0.0\n",
    "delta_t = 0.25  # hrs\n",
    "theta_sat = 0.479\n",
    "psi = 29.22  # cm\n",
    "K = 0.05  # cm/hr\n",
    "initial_saturation = 0.30  # fraction\n",
    "theta_eff = 0.423\n",
    "delta_F = 1.0e-4"
   ]
  },
  {
   "cell_type": "code",
   "execution_count": null,
   "id": "3cfa4061-4d22-4ce3-8c32-06f5364086c4",
   "metadata": {},
   "outputs": [],
   "source": [
    "theta_wp = theta_sat - theta_eff"
   ]
  },
  {
   "cell_type": "code",
   "execution_count": null,
   "id": "5bcfb576-67b1-475e-9eff-5c5b97252ed4",
   "metadata": {},
   "outputs": [],
   "source": [
    "theta = initial_saturation * (theta_sat - theta_wp) + theta_wp\n",
    "theta0 = initial_saturation * (theta_sat - theta_wp) + theta_wp\n",
    "theta"
   ]
  },
  {
   "cell_type": "code",
   "execution_count": null,
   "id": "aea461e0-b2d2-4a2a-bed4-c27fc0429fd8",
   "metadata": {},
   "outputs": [],
   "source": [
    "delta_theta = theta_sat - theta\n",
    "delta_theta"
   ]
  },
  {
   "cell_type": "code",
   "execution_count": null,
   "id": "ae2e9d61-9dfa-4eda-894e-c7e518022b87",
   "metadata": {},
   "outputs": [],
   "source": [
    "def residual(F):\n",
    "    v = abs(psi) * delta_theta\n",
    "    return F - v * np.log(1.0 + F / v) - K * infiltration_time"
   ]
  },
  {
   "cell_type": "code",
   "execution_count": null,
   "id": "dc5f3804-a2f1-4944-bf8a-89468afba742",
   "metadata": {},
   "outputs": [],
   "source": [
    "def derivative(F):\n",
    "    return (residual(F + delta_F) - residual(F)) / delta_F"
   ]
  },
  {
   "cell_type": "code",
   "execution_count": null,
   "id": "9077c70b-eb95-4aa8-83b9-d9e5678d0306",
   "metadata": {},
   "outputs": [],
   "source": [
    "def green_ampt_infiltration(F):\n",
    "    v = abs(psi) * delta_theta\n",
    "    if F == 0.0:\n",
    "        f = 0.0\n",
    "    else:\n",
    "        f = K * ((v / F) + 1)\n",
    "    return f"
   ]
  },
  {
   "cell_type": "code",
   "execution_count": null,
   "id": "0d2c4518-d757-4465-b487-78384f09cf04",
   "metadata": {},
   "outputs": [],
   "source": [
    "def fill_results(iteration, error, F_t, f_t):\n",
    "    results_dict[\"infiltration time\"].append(infiltration_time)\n",
    "    results_dict[\"iteration\"].append(iteration)\n",
    "    results_dict[\"error\"].append(error)\n",
    "    results_dict[\"F\"].append(F_t)\n",
    "    results_dict[\"f\"].append(f_t)"
   ]
  },
  {
   "cell_type": "code",
   "execution_count": null,
   "id": "56e13f4c-57d0-42ca-9c6e-5dbc666f81c9",
   "metadata": {},
   "outputs": [],
   "source": [
    "def solve(F_t):\n",
    "    iter, F_t, error, converged = simple_soil.utils.newton_raphson(\n",
    "        residual, derivative, F_t\n",
    "    )\n",
    "    infiltration_rate = green_ampt_infiltration(F_t)\n",
    "    fill_results(iter, error, F_t, green_ampt_infiltration(F_t))"
   ]
  },
  {
   "cell_type": "code",
   "execution_count": null,
   "id": "33716964-b829-4176-9ee4-3b00b7bb7bbe",
   "metadata": {},
   "outputs": [],
   "source": [
    "np.arange(0, 2, 0.25)"
   ]
  },
  {
   "cell_type": "code",
   "execution_count": null,
   "id": "a3d29641-de1f-48f0-9594-4abc217e91d8",
   "metadata": {},
   "outputs": [],
   "source": [
    "for infiltration_time in np.arange(0.0, 3.0 + delta_t, delta_t):\n",
    "    solve(F_t)"
   ]
  },
  {
   "cell_type": "code",
   "execution_count": null,
   "id": "527c4cbd-aea5-452a-9e91-924ddec85a3a",
   "metadata": {},
   "outputs": [],
   "source": [
    "df = pd.DataFrame.from_dict(\n",
    "    results_dict,\n",
    ").set_index(\"infiltration time\")"
   ]
  },
  {
   "cell_type": "code",
   "execution_count": null,
   "id": "f035c5d3-9cc4-47b0-83f3-5953a124ddda",
   "metadata": {},
   "outputs": [],
   "source": [
    "df"
   ]
  },
  {
   "cell_type": "code",
   "execution_count": null,
   "id": "8488911a-ddb8-4ab6-b4d3-ac0fcf86d206",
   "metadata": {},
   "outputs": [],
   "source": [
    "# matplotlib 2 panel mosaic\n",
    "mosaic = \"\"\"\n",
    "    AB\n",
    "    \"\"\"\n",
    "line_dict = {\"lw\": 1.0, \"color\": \"black\"}\n",
    "solution_dict = {\"lw\": 0, \"marker\": \"o\", \"mfc\": \"white\", \"mec\": \"black\"}"
   ]
  },
  {
   "cell_type": "code",
   "execution_count": null,
   "id": "4b31923b-cff2-4690-8f95-575594480c47",
   "metadata": {},
   "outputs": [],
   "source": [
    "with styles.USGSPlot():\n",
    "    fig = plt.figure(layout=\"constrained\", figsize=(6, 3))\n",
    "    ax_dict = fig.subplot_mosaic(mosaic)\n",
    "\n",
    "    ax = ax_dict[\"A\"]\n",
    "    df[\"f\"].plot(ax=ax, **line_dict)\n",
    "    solution_df[\"f\"].plot(ax=ax, **solution_dict)\n",
    "    ax.set_ylabel(\"Infitration rate (cm/hr)\")\n",
    "\n",
    "    ax = ax_dict[\"B\"]\n",
    "    df[\"F\"].plot(ax=ax, **line_dict)\n",
    "    solution_df[\"F\"].plot(ax=ax, **solution_dict)\n",
    "    ax.set_ylabel(\"Cumulative Infitration (cm)\")"
   ]
  },
  {
   "cell_type": "markdown",
   "id": "ddd3ad9f-f772-4b95-aa55-d83a941a0942",
   "metadata": {},
   "source": [
    "Test simple_soil Green Ampt Infiltration function"
   ]
  },
  {
   "cell_type": "code",
   "execution_count": null,
   "id": "0d282356-799a-4b6f-9ada-8d2d028a1ee7",
   "metadata": {},
   "outputs": [],
   "source": [
    "ga = simple_soil.utils.GreenAmpt(\n",
    "    theta_sat,\n",
    "    K,\n",
    "    \"cm\",\n",
    "    soil=\"silty clay\",\n",
    ")"
   ]
  },
  {
   "cell_type": "code",
   "execution_count": null,
   "id": "58ec44dc-862a-4671-94bb-9d8454276b02",
   "metadata": {},
   "outputs": [],
   "source": [
    "ga_results_dict = {\n",
    "    \"infiltration time\": [],\n",
    "    \"iterations\": [],\n",
    "    \"error\": [],\n",
    "    \"F\": [],\n",
    "    \"f\": [],\n",
    "}\n",
    "dt = delta_t * 1.0\n",
    "for infiltration_time in np.arange(0.0, 3.0 + dt, dt):\n",
    "    ga.set_infiltration_time(infiltration_time)\n",
    "    ga.infiltration(K, theta, theta0)\n",
    "    ga_results_dict[\"infiltration time\"].append(infiltration_time)\n",
    "    ga_results_dict[\"iterations\"].append(ga.iterations)\n",
    "    ga_results_dict[\"error\"].append(ga.error)\n",
    "    ga_results_dict[\"F\"].append(ga.F_t)\n",
    "    ga_results_dict[\"f\"].append(ga.f_t)"
   ]
  },
  {
   "cell_type": "code",
   "execution_count": null,
   "id": "feed00db-28f8-411e-b862-1fac359ff863",
   "metadata": {},
   "outputs": [],
   "source": [
    "ga_df = pd.DataFrame.from_dict(\n",
    "    ga_results_dict,\n",
    ").set_index(\"infiltration time\")"
   ]
  },
  {
   "cell_type": "code",
   "execution_count": null,
   "id": "ff96d21a-519d-4676-ba20-9bba6c3343ee",
   "metadata": {},
   "outputs": [],
   "source": [
    "ga_df"
   ]
  },
  {
   "cell_type": "code",
   "execution_count": null,
   "id": "8f55003a-299e-4435-a164-3ae13a934fb0",
   "metadata": {},
   "outputs": [],
   "source": [
    "with styles.USGSPlot():\n",
    "    fig = plt.figure(layout=\"constrained\", figsize=(6, 3))\n",
    "    ax_dict = fig.subplot_mosaic(mosaic)\n",
    "\n",
    "    ax = ax_dict[\"A\"]\n",
    "    ga_df[\"f\"].plot(ax=ax, **line_dict)\n",
    "    solution_df[\"f\"].plot(ax=ax, **solution_dict)\n",
    "    ax.set_ylabel(\"Infitration rate (cm/hr)\")\n",
    "\n",
    "    ax = ax_dict[\"B\"]\n",
    "    ga_df[\"F\"].plot(ax=ax, **line_dict)\n",
    "    solution_df[\"F\"].plot(ax=ax, **solution_dict)\n",
    "    ax.set_ylabel(\"Cumulative Infitration (cm)\")"
   ]
  },
  {
   "cell_type": "code",
   "execution_count": null,
   "id": "cdcd76aa-6fe6-4cec-95f6-df1d762c5be3",
   "metadata": {},
   "outputs": [],
   "source": []
  }
 ],
 "metadata": {
  "kernelspec": {
   "display_name": "Python 3 (ipykernel)",
   "language": "python",
   "name": "python3"
  },
  "language_info": {
   "codemirror_mode": {
    "name": "ipython",
    "version": 3
   },
   "file_extension": ".py",
   "mimetype": "text/x-python",
   "name": "python",
   "nbconvert_exporter": "python",
   "pygments_lexer": "ipython3",
   "version": "3.9.16"
  }
 },
 "nbformat": 4,
 "nbformat_minor": 5
}
