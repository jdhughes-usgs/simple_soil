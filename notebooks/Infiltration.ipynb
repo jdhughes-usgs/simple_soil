{
 "cells": [
  {
   "cell_type": "code",
   "execution_count": 1,
   "id": "456b68af-37bd-4799-9f14-2cd6285fc7cc",
   "metadata": {},
   "outputs": [],
   "source": [
    "import pathlib as pl\n",
    "import pandas as pd\n",
    "import numpy as np\n",
    "import matplotlib.pyplot as plt\n",
    "import simple_soil"
   ]
  },
  {
   "cell_type": "code",
   "execution_count": 5,
   "id": "c580caee-585a-48e1-a597-78aa6de22825",
   "metadata": {},
   "outputs": [],
   "source": [
    "cv = simple_soil.base.ControlVolume(\n",
    "    max_vertical_rate=0.025,\n",
    "    infiltration_method=\"green-ampt\",\n",
    "    soil=\"silty clay\",\n",
    "    length_units=\"cm\",\n",
    ")"
   ]
  },
  {
   "cell_type": "code",
   "execution_count": 6,
   "id": "f95f642a-73bd-4040-9d9d-f7482819812c",
   "metadata": {},
   "outputs": [
    {
     "data": {
      "text/plain": [
       "aet_volume=None\n",
       "area=1.0\n",
       "converged=False\n",
       "delta_t=None\n",
       "delta_theta=0.0001\n",
       "discharge_thickness=0.1\n",
       "error=None\n",
       "horizontal_vertical_ratio=10.0\n",
       "infiltration_method=<simple_soil.utils.infiltration_functions.GreenAmpt object at 0x14bec3ee0>\n",
       "inflow_rate=None\n",
       "inflow_volume=None\n",
       "iterations=None\n",
       "lateral_volume=None\n",
       "length_units=cm\n",
       "max_horizontal_rate=0.25\n",
       "max_iterations=100\n",
       "max_vertical_rate=0.025\n",
       "output_dict={'total_time': [], 'iterations': [], 'theta': [], 'volume_L3/T': [], 'rejected_inflow_L3/T': [], 'inflow_L3/T': [], 'surface_L3/T': [], 'aet_L3/T': [], 'lateral_L3/T': [], 'recharge_L3/T': [], 'storage_change_L3/T': [], 'residual_L3/T': []}\n",
       "pet_fraction=0.15\n",
       "pet_rate=None\n",
       "recharge_volume=None\n",
       "smoothing_omega=1e-06\n",
       "storage_volume_change=None\n",
       "surface_volume=None\n",
       "theta=0.01\n",
       "theta0=0.01\n",
       "theta_discharge=0.18000000000000002\n",
       "theta_fc=0.1\n",
       "theta_pet_max=0.0385\n",
       "theta_sat=0.2\n",
       "theta_wp=0.01\n",
       "thickness=1.0\n",
       "time_units=d\n",
       "total_time=0.0\n",
       "volume=0.01\n",
       "volume0=0.01\n",
       "volume_max=0.2"
      ]
     },
     "execution_count": 6,
     "metadata": {},
     "output_type": "execute_result"
    }
   ],
   "source": [
    "cv"
   ]
  },
  {
   "cell_type": "code",
   "execution_count": 7,
   "id": "97d3ebae-9d90-41d2-8de3-582db84904ce",
   "metadata": {},
   "outputs": [
    {
     "data": {
      "text/plain": [
       "29.21"
      ]
     },
     "execution_count": 7,
     "metadata": {},
     "output_type": "execute_result"
    }
   ],
   "source": [
    "cv.infiltration_method.psi"
   ]
  },
  {
   "cell_type": "code",
   "execution_count": null,
   "id": "81c156a9-4896-4082-aaad-17034643432e",
   "metadata": {},
   "outputs": [],
   "source": [
    "rain_path = pl.Path(\"data/hru_1_rain.csv\")"
   ]
  },
  {
   "cell_type": "code",
   "execution_count": null,
   "id": "945d37ac-4a30-431b-a38c-abb74949fcfc",
   "metadata": {},
   "outputs": [],
   "source": [
    "rain = pd.read_csv(rain_path, index_col=0)\n",
    "rain.columns"
   ]
  },
  {
   "cell_type": "code",
   "execution_count": null,
   "id": "257f60bf-a3a3-4f15-91b0-ff28bdf44a4b",
   "metadata": {},
   "outputs": [],
   "source": [
    "rain = rain.drop(\"ppt in/day\", axis=1)\n",
    "rain.columns"
   ]
  },
  {
   "cell_type": "code",
   "execution_count": null,
   "id": "5d5ca686-684e-46c1-8c7b-dd7478032695",
   "metadata": {},
   "outputs": [],
   "source": [
    "rain[0:365].plot()"
   ]
  },
  {
   "cell_type": "code",
   "execution_count": null,
   "id": "ec36784e-0d2c-4f0c-80d1-ccfacaa59c6b",
   "metadata": {},
   "outputs": [],
   "source": [
    "rain.columns"
   ]
  },
  {
   "cell_type": "code",
   "execution_count": null,
   "id": "2bc70d86-a665-4bba-bb75-85bcf6d03aca",
   "metadata": {},
   "outputs": [],
   "source": [
    "rain_arr = rain[\"ppt m/day\"].to_numpy()"
   ]
  },
  {
   "cell_type": "code",
   "execution_count": null,
   "id": "305e5ab7-2d93-4696-86b1-0c6713dc39e5",
   "metadata": {},
   "outputs": [],
   "source": [
    "rain_arr"
   ]
  },
  {
   "cell_type": "code",
   "execution_count": null,
   "id": "32888df6-a158-4598-9e74-5b2de5e76c10",
   "metadata": {},
   "outputs": [],
   "source": [
    "infiltration = simple_soil.utils.infiltration_depth(\n",
    "    rain_arr, cv.max_vertical_rate\n",
    ")"
   ]
  },
  {
   "cell_type": "code",
   "execution_count": null,
   "id": "764f11ea-ece0-40df-b792-ba4efc1c274a",
   "metadata": {},
   "outputs": [],
   "source": [
    "rejected_infiltration = rain_arr - infiltration"
   ]
  },
  {
   "cell_type": "code",
   "execution_count": null,
   "id": "8715e5b0-70e2-4fe6-bb67-47ad37f747ad",
   "metadata": {},
   "outputs": [],
   "source": [
    "rain[\"infiltration\"] = infiltration\n",
    "rain[\"rejected_infiltration\"] = rejected_infiltration"
   ]
  },
  {
   "cell_type": "code",
   "execution_count": null,
   "id": "8f8ae2b5-589e-44fa-acc8-8a504ee7b0c5",
   "metadata": {},
   "outputs": [],
   "source": [
    "rain"
   ]
  },
  {
   "cell_type": "code",
   "execution_count": null,
   "id": "b0742a9d-7ba6-4b69-860b-e9d895b1fa59",
   "metadata": {},
   "outputs": [],
   "source": [
    "rain[[\"infiltration\"]][0:366].plot()"
   ]
  },
  {
   "cell_type": "code",
   "execution_count": null,
   "id": "bc3030f2-c382-4670-acce-1c7427912d60",
   "metadata": {},
   "outputs": [],
   "source": [
    "rain[[\"ppt m/day\", \"infiltration\", \"rejected_infiltration\"]][0:366].plot()"
   ]
  },
  {
   "cell_type": "code",
   "execution_count": null,
   "id": "63d0c421-925b-473b-94d6-1a3ef3ebd545",
   "metadata": {},
   "outputs": [],
   "source": []
  },
  {
   "cell_type": "code",
   "execution_count": null,
   "id": "359618f8-6d5c-4688-8b1c-db8c0c93feb8",
   "metadata": {},
   "outputs": [],
   "source": []
  },
  {
   "cell_type": "code",
   "execution_count": null,
   "id": "d65616b7-d30d-4ebf-9fa4-cef59ce6e9c1",
   "metadata": {},
   "outputs": [],
   "source": []
  }
 ],
 "metadata": {
  "kernelspec": {
   "display_name": "Python 3 (ipykernel)",
   "language": "python",
   "name": "python3"
  },
  "language_info": {
   "codemirror_mode": {
    "name": "ipython",
    "version": 3
   },
   "file_extension": ".py",
   "mimetype": "text/x-python",
   "name": "python",
   "nbconvert_exporter": "python",
   "pygments_lexer": "ipython3",
   "version": "3.9.16"
  }
 },
 "nbformat": 4,
 "nbformat_minor": 5
}
