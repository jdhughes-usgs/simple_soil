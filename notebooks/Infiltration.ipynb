{
 "cells": [
  {
   "cell_type": "code",
   "execution_count": null,
   "id": "456b68af-37bd-4799-9f14-2cd6285fc7cc",
   "metadata": {},
   "outputs": [],
   "source": [
    "import pathlib as pl\n",
    "import pandas as pd\n",
    "import numpy as np\n",
    "import matplotlib.pyplot as plt\n",
    "import simple_soil"
   ]
  },
  {
   "cell_type": "code",
   "execution_count": null,
   "id": "81c156a9-4896-4082-aaad-17034643432e",
   "metadata": {},
   "outputs": [],
   "source": [
    "rain_path = pl.Path(\"data/hru_1_rain.csv\")"
   ]
  },
  {
   "cell_type": "code",
   "execution_count": null,
   "id": "945d37ac-4a30-431b-a38c-abb74949fcfc",
   "metadata": {},
   "outputs": [],
   "source": [
    "rain = pd.read_csv(rain_path, index_col=0)\n",
    "rain.columns"
   ]
  },
  {
   "cell_type": "code",
   "execution_count": null,
   "id": "257f60bf-a3a3-4f15-91b0-ff28bdf44a4b",
   "metadata": {},
   "outputs": [],
   "source": [
    "rain = rain.drop(\"in/day\", axis=1)\n",
    "rain.columns"
   ]
  },
  {
   "cell_type": "code",
   "execution_count": null,
   "id": "5d5ca686-684e-46c1-8c7b-dd7478032695",
   "metadata": {},
   "outputs": [],
   "source": [
    "rain.plot()"
   ]
  },
  {
   "cell_type": "code",
   "execution_count": null,
   "id": "c580caee-585a-48e1-a597-78aa6de22825",
   "metadata": {},
   "outputs": [],
   "source": [
    "cv = simple_soil.base.ControlVolume(max_vertical_rate=0.025)"
   ]
  },
  {
   "cell_type": "code",
   "execution_count": null,
   "id": "f95f642a-73bd-4040-9d9d-f7482819812c",
   "metadata": {},
   "outputs": [],
   "source": [
    "cv"
   ]
  },
  {
   "cell_type": "code",
   "execution_count": null,
   "id": "ec36784e-0d2c-4f0c-80d1-ccfacaa59c6b",
   "metadata": {},
   "outputs": [],
   "source": [
    "rain.columns"
   ]
  },
  {
   "cell_type": "code",
   "execution_count": null,
   "id": "2bc70d86-a665-4bba-bb75-85bcf6d03aca",
   "metadata": {},
   "outputs": [],
   "source": [
    "rain_arr = rain[\"m/day\"].to_numpy()"
   ]
  },
  {
   "cell_type": "code",
   "execution_count": null,
   "id": "305e5ab7-2d93-4696-86b1-0c6713dc39e5",
   "metadata": {},
   "outputs": [],
   "source": [
    "rain_arr"
   ]
  },
  {
   "cell_type": "code",
   "execution_count": null,
   "id": "32888df6-a158-4598-9e74-5b2de5e76c10",
   "metadata": {},
   "outputs": [],
   "source": [
    "infiltration = simple_soil.utils.infiltration(rain_arr, cv.max_vertical_rate)"
   ]
  },
  {
   "cell_type": "code",
   "execution_count": null,
   "id": "764f11ea-ece0-40df-b792-ba4efc1c274a",
   "metadata": {},
   "outputs": [],
   "source": [
    "rejected_infiltration = rain_arr - infiltration"
   ]
  },
  {
   "cell_type": "code",
   "execution_count": null,
   "id": "8715e5b0-70e2-4fe6-bb67-47ad37f747ad",
   "metadata": {},
   "outputs": [],
   "source": [
    "rain[\"infiltration\"] = infiltration\n",
    "rain[\"rejected_infiltration\"] = rejected_infiltration"
   ]
  },
  {
   "cell_type": "code",
   "execution_count": null,
   "id": "8f8ae2b5-589e-44fa-acc8-8a504ee7b0c5",
   "metadata": {},
   "outputs": [],
   "source": [
    "rain"
   ]
  },
  {
   "cell_type": "code",
   "execution_count": null,
   "id": "b0742a9d-7ba6-4b69-860b-e9d895b1fa59",
   "metadata": {},
   "outputs": [],
   "source": [
    "rain[[\"infiltration\"]].plot()"
   ]
  },
  {
   "cell_type": "code",
   "execution_count": null,
   "id": "bc3030f2-c382-4670-acce-1c7427912d60",
   "metadata": {},
   "outputs": [],
   "source": [
    "rain[[\"m/day\", \"infiltration\", \"rejected_infiltration\"]].plot()"
   ]
  },
  {
   "cell_type": "code",
   "execution_count": null,
   "id": "63d0c421-925b-473b-94d6-1a3ef3ebd545",
   "metadata": {},
   "outputs": [],
   "source": []
  },
  {
   "cell_type": "code",
   "execution_count": null,
   "id": "359618f8-6d5c-4688-8b1c-db8c0c93feb8",
   "metadata": {},
   "outputs": [],
   "source": []
  },
  {
   "cell_type": "code",
   "execution_count": null,
   "id": "d65616b7-d30d-4ebf-9fa4-cef59ce6e9c1",
   "metadata": {},
   "outputs": [],
   "source": []
  }
 ],
 "metadata": {
  "kernelspec": {
   "display_name": "Python 3 (ipykernel)",
   "language": "python",
   "name": "python3"
  },
  "language_info": {
   "codemirror_mode": {
    "name": "ipython",
    "version": 3
   },
   "file_extension": ".py",
   "mimetype": "text/x-python",
   "name": "python",
   "nbconvert_exporter": "python",
   "pygments_lexer": "ipython3",
   "version": "3.9.16"
  }
 },
 "nbformat": 4,
 "nbformat_minor": 5
}
