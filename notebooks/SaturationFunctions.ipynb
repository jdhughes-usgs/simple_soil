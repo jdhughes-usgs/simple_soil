{
 "cells": [
  {
   "cell_type": "code",
   "execution_count": null,
   "id": "d0c7f8d4-2db8-45ef-bcad-72fd9f5cc687",
   "metadata": {},
   "outputs": [],
   "source": [
    "import numpy as np\n",
    "import matplotlib.pyplot as plt\n",
    "import simple_soil"
   ]
  },
  {
   "cell_type": "code",
   "execution_count": null,
   "id": "8f40844b-221d-4042-a438-3e89c1791aa5",
   "metadata": {},
   "outputs": [],
   "source": [
    "cv = simple_soil.base.ControlVolume()"
   ]
  },
  {
   "cell_type": "code",
   "execution_count": null,
   "id": "187ee18e-f55b-4da8-b8ce-cef435eeb933",
   "metadata": {},
   "outputs": [],
   "source": [
    "cv"
   ]
  },
  {
   "cell_type": "code",
   "execution_count": null,
   "id": "1567a4c6-b390-41fd-8112-4923a0c73806",
   "metadata": {},
   "outputs": [],
   "source": [
    "dtheta = 0.001\n",
    "soil_moisture = np.arange(0, cv.theta + 10.0 * dtheta, dtheta)"
   ]
  },
  {
   "cell_type": "code",
   "execution_count": null,
   "id": "761b2840-716e-41ad-ae17-24f52d9d5026",
   "metadata": {},
   "outputs": [],
   "source": [
    "soil_moisture"
   ]
  },
  {
   "cell_type": "code",
   "execution_count": null,
   "id": "f18a1525-f71a-4e6e-b8e2-204be91061d6",
   "metadata": {},
   "outputs": [],
   "source": [
    "omega = 0.075"
   ]
  },
  {
   "cell_type": "code",
   "execution_count": null,
   "id": "e803e6e5-4d28-4d44-9867-2db88afeacae",
   "metadata": {},
   "outputs": [],
   "source": [
    "fraction_saturation = simple_soil.utils.saturation_fraction(\n",
    "    soil_moisture, cv, omega=omega\n",
    ")"
   ]
  },
  {
   "cell_type": "code",
   "execution_count": null,
   "id": "f4511c5c-ae1e-46e4-bd6c-c008b2660fea",
   "metadata": {},
   "outputs": [],
   "source": [
    "fraction_gw = simple_soil.utils.groundwater_recharge_fraction(\n",
    "    soil_moisture, cv, omega=omega\n",
    ")"
   ]
  },
  {
   "cell_type": "code",
   "execution_count": null,
   "id": "98c1e806-e476-41cb-abeb-a4818151a248",
   "metadata": {},
   "outputs": [],
   "source": [
    "fraction_lateral = simple_soil.utils.lateral_discharge_fraction(\n",
    "    soil_moisture, cv, omega=omega\n",
    ")"
   ]
  },
  {
   "cell_type": "code",
   "execution_count": null,
   "id": "caffc99a-15a3-4436-87d3-9c0dba144828",
   "metadata": {},
   "outputs": [],
   "source": [
    "fraction_surface = simple_soil.utils.surface_discharge_fraction(\n",
    "    soil_moisture, cv, omega=omega\n",
    ")"
   ]
  },
  {
   "cell_type": "code",
   "execution_count": null,
   "id": "f4f17fdb-d93b-441a-b104-50b541c759d8",
   "metadata": {},
   "outputs": [],
   "source": [
    "fraction_infiltration = simple_soil.utils.surface_infiltration_fraction(\n",
    "    soil_moisture, cv, omega=omega\n",
    ")"
   ]
  },
  {
   "cell_type": "code",
   "execution_count": null,
   "id": "582168f1-619a-49ef-a8bb-2cc6b3079df3",
   "metadata": {},
   "outputs": [],
   "source": [
    "fraction_pet = simple_soil.utils.pet_fraction(soil_moisture, cv, omega=omega)"
   ]
  },
  {
   "cell_type": "code",
   "execution_count": null,
   "id": "41b77c0a-8627-4c00-8d03-50b68f3395df",
   "metadata": {},
   "outputs": [],
   "source": [
    "ranges = (\n",
    "    0,\n",
    "    cv.theta_wp,\n",
    "    cv.theta_pet_max,\n",
    "    cv.theta_fc,\n",
    "    cv.theta_discharge,\n",
    "    cv.theta,\n",
    "    soil_moisture[-1],\n",
    ")\n",
    "colors = (\"0.25\", \"brown\", \"green\", \"cyan\", \"blue\", \"none\")\n",
    "labels = (\"<wp\", \">wp\", \"<fc\", \">fc\", \">sd\", None)"
   ]
  },
  {
   "cell_type": "code",
   "execution_count": null,
   "id": "cc843807-7265-44b2-b219-230ea1575715",
   "metadata": {},
   "outputs": [],
   "source": [
    "for idx, vv in enumerate(ranges[:-1]):\n",
    "    plt.axvspan(\n",
    "        vv, ranges[idx + 1], alpha=0.25, color=colors[idx], label=labels[idx]\n",
    "    )\n",
    "    plt.axvline(vv, color=\"0.5\", lw=0.5)\n",
    "\n",
    "plt.plot(soil_moisture, fraction_pet, label=\"pet\")\n",
    "plt.plot(soil_moisture, fraction_gw, label=\"recharge\")\n",
    "plt.plot(soil_moisture, fraction_lateral, ls=\"--\", label=\"lateral\")\n",
    "plt.plot(soil_moisture, fraction_surface, label=\"surface\")\n",
    "plt.plot(soil_moisture, fraction_infiltration, label=\"infiltration\")\n",
    "plt.plot(soil_moisture, fraction_saturation, label=\"saturation\")\n",
    "\n",
    "plt.legend();"
   ]
  },
  {
   "cell_type": "code",
   "execution_count": null,
   "id": "390f4c9b-4d90-43d3-b36f-f9f985121e44",
   "metadata": {},
   "outputs": [],
   "source": [
    "for idx, vv in enumerate(ranges[:-1]):\n",
    "    plt.axhspan(\n",
    "        vv, ranges[idx + 1], alpha=0.25, color=colors[idx], label=labels[idx]\n",
    "    )\n",
    "    plt.axhline(vv, color=\"0.5\", lw=0.5)\n",
    "\n",
    "plt.plot(fraction_pet, soil_moisture, label=\"pet\")\n",
    "plt.plot(fraction_gw, soil_moisture, label=\"recharge\")\n",
    "plt.plot(fraction_lateral, soil_moisture, ls=\"--\", label=\"lateral\")\n",
    "plt.plot(fraction_surface, soil_moisture, label=\"surface\")\n",
    "plt.plot(fraction_infiltration, soil_moisture, label=\"infiltration\")\n",
    "plt.plot(fraction_saturation, soil_moisture, label=\"saturation\")\n",
    "\n",
    "plt.legend();"
   ]
  },
  {
   "cell_type": "code",
   "execution_count": null,
   "id": "bb8202a7-8fc9-46d4-a99f-f143133b5dc7",
   "metadata": {},
   "outputs": [],
   "source": []
  }
 ],
 "metadata": {
  "kernelspec": {
   "display_name": "Python 3 (ipykernel)",
   "language": "python",
   "name": "python3"
  },
  "language_info": {
   "codemirror_mode": {
    "name": "ipython",
    "version": 3
   },
   "file_extension": ".py",
   "mimetype": "text/x-python",
   "name": "python",
   "nbconvert_exporter": "python",
   "pygments_lexer": "ipython3",
   "version": "3.9.16"
  }
 },
 "nbformat": 4,
 "nbformat_minor": 5
}
